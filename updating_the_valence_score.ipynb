{
  "nbformat": 4,
  "nbformat_minor": 0,
  "metadata": {
    "colab": {
      "provenance": []
    },
    "kernelspec": {
      "name": "python3",
      "display_name": "Python 3"
    },
    "language_info": {
      "name": "python"
    }
  },
  "cells": [
    {
      "cell_type": "code",
      "source": [
        "pip install emoji"
      ],
      "metadata": {
        "colab": {
          "base_uri": "https://localhost:8080/"
        },
        "id": "wx9Gv6wqjxkV",
        "outputId": "c6344637-6aae-4595-ac7d-0b9a5126212a"
      },
      "execution_count": null,
      "outputs": [
        {
          "output_type": "stream",
          "name": "stdout",
          "text": [
            "Looking in indexes: https://pypi.org/simple, https://us-python.pkg.dev/colab-wheels/public/simple/\n",
            "Collecting emoji\n",
            "  Downloading emoji-2.2.0.tar.gz (240 kB)\n",
            "\u001b[2K     \u001b[90m━━━━━━━━━━━━━━━━━━━━━━━━━━━━━━━━━━━━━━\u001b[0m \u001b[32m240.9/240.9 kB\u001b[0m \u001b[31m15.6 MB/s\u001b[0m eta \u001b[36m0:00:00\u001b[0m\n",
            "\u001b[?25h  Preparing metadata (setup.py) ... \u001b[?25l\u001b[?25hdone\n",
            "Building wheels for collected packages: emoji\n",
            "  Building wheel for emoji (setup.py) ... \u001b[?25l\u001b[?25hdone\n",
            "  Created wheel for emoji: filename=emoji-2.2.0-py3-none-any.whl size=234926 sha256=b69b9a7d68cfce1d3060d5e1ce68d3417d750074ce667f1ef69835f43b00d16d\n",
            "  Stored in directory: /root/.cache/pip/wheels/9a/b8/0f/f580817231cbf59f6ade9fd132ff60ada1de9f7dc85521f857\n",
            "Successfully built emoji\n",
            "Installing collected packages: emoji\n",
            "Successfully installed emoji-2.2.0\n"
          ]
        }
      ]
    },
    {
      "cell_type": "code",
      "source": [
        "import nltk\n",
        "from nltk.sentiment import SentimentIntensityAnalyzer\n",
        "import pandas as pd\n",
        "nltk.downloader.download('stopwords')\n",
        "nltk.downloader.download('vader_lexicon')"
      ],
      "metadata": {
        "colab": {
          "base_uri": "https://localhost:8080/"
        },
        "id": "7sxBFUw1USNN",
        "outputId": "50fde218-cc48-4937-822f-58b72a81001d"
      },
      "execution_count": null,
      "outputs": [
        {
          "output_type": "stream",
          "name": "stderr",
          "text": [
            "[nltk_data] Downloading package stopwords to /root/nltk_data...\n",
            "[nltk_data]   Package stopwords is already up-to-date!\n",
            "[nltk_data] Downloading package vader_lexicon to /root/nltk_data...\n",
            "[nltk_data]   Package vader_lexicon is already up-to-date!\n"
          ]
        },
        {
          "output_type": "execute_result",
          "data": {
            "text/plain": [
              "True"
            ]
          },
          "metadata": {},
          "execution_count": 144
        }
      ]
    },
    {
      "cell_type": "markdown",
      "source": [
        "## reading the data + initial set up"
      ],
      "metadata": {
        "id": "Hu1YGc6Efl6Y"
      }
    },
    {
      "cell_type": "code",
      "source": [
        "data = pd.read_csv('/content/drive/MyDrive/december2021jan.csv')\n",
        "data"
      ],
      "metadata": {
        "colab": {
          "base_uri": "https://localhost:8080/",
          "height": 568
        },
        "id": "hKggKYfuijYI",
        "outputId": "9024a7bb-f435-4095-c8e1-64689b5dd92e"
      },
      "execution_count": null,
      "outputs": [
        {
          "output_type": "stream",
          "name": "stderr",
          "text": [
            "<ipython-input-145-b72ef8d19ae2>:1: DtypeWarning: Columns (6) have mixed types. Specify dtype option on import or set low_memory=False.\n",
            "  data = pd.read_csv('/content/drive/MyDrive/december2021jan.csv')\n"
          ]
        },
        {
          "output_type": "execute_result",
          "data": {
            "text/plain": [
              "        Unnamed: 0 all_awardings  associated_award                author  \\\n",
              "0                0            []               NaN          BadassMcGass   \n",
              "1                1            []               NaN         Stockengineer   \n",
              "2                2            []               NaN            laramidian   \n",
              "3                3            []               NaN       Houston_swimmer   \n",
              "4                4            []               NaN          GoBeaversOSU   \n",
              "...            ...           ...               ...                   ...   \n",
              "710827         995            []               NaN              Jimmy070   \n",
              "710828         996            []               NaN             Congo7500   \n",
              "710829         997            []               NaN             [deleted]   \n",
              "710830         998            []               NaN  AdministrativeWall61   \n",
              "710831         999            []               NaN           dirtydeetzz   \n",
              "\n",
              "        author_created_utc author_flair_background_color  \\\n",
              "0             1.465992e+09                           NaN   \n",
              "1             1.446783e+09                           NaN   \n",
              "2                      NaN                           NaN   \n",
              "3             1.535375e+09                       #373c3f   \n",
              "4             1.423722e+09                       #ff4500   \n",
              "...                    ...                           ...   \n",
              "710827                 NaN                           NaN   \n",
              "710828                 NaN                           NaN   \n",
              "710829                 NaN                           NaN   \n",
              "710830                 NaN                           NaN   \n",
              "710831                 NaN                           NaN   \n",
              "\n",
              "       author_flair_css_class  \\\n",
              "0                         NaN   \n",
              "1                         NaN   \n",
              "2                         NaN   \n",
              "3                         NaN   \n",
              "4                         NaN   \n",
              "...                       ...   \n",
              "710827                    NaN   \n",
              "710828                    NaN   \n",
              "710829                    NaN   \n",
              "710830                    NaN   \n",
              "710831                    NaN   \n",
              "\n",
              "                                    author_flair_richtext  \\\n",
              "0                                                      []   \n",
              "1                                                      []   \n",
              "2                                                      []   \n",
              "3            [{'e': 'text', 't': 'Better With Pictures'}]   \n",
              "4       [{'a': ':benny:', 'e': 'emoji', 'u': 'https://...   \n",
              "...                                                   ...   \n",
              "710827                                                 []   \n",
              "710828                                                 []   \n",
              "710829                                                NaN   \n",
              "710830                                                 []   \n",
              "710831                                                 []   \n",
              "\n",
              "                    author_flair_template_id     author_flair_text  ...  \\\n",
              "0                                        NaN                   NaN  ...   \n",
              "1                                        NaN                   NaN  ...   \n",
              "2                                        NaN                   NaN  ...   \n",
              "3       28fbe25a-7c59-11ea-965e-0e0a65cd3f97  Better With Pictures  ...   \n",
              "4       57c0331a-0d2e-11ea-86f4-0ef7601af6ab               :benny:  ...   \n",
              "...                                      ...                   ...  ...   \n",
              "710827                                   NaN                   NaN  ...   \n",
              "710828                                   NaN                   NaN  ...   \n",
              "710829                                   NaN                   NaN  ...   \n",
              "710830                                   NaN                   NaN  ...   \n",
              "710831                                   NaN                   NaN  ...   \n",
              "\n",
              "       top_awarded_type total_awards_received treatment_tags retrieved_utc  \\\n",
              "0                   NaN                     0             []    1620165462   \n",
              "1                   NaN                     0             []    1620165461   \n",
              "2                   NaN                     0             []    1620165461   \n",
              "3                   NaN                     0             []    1620165456   \n",
              "4                   NaN                     0             []    1620165456   \n",
              "...                 ...                   ...            ...           ...   \n",
              "710827              NaN                     0             []    1622532469   \n",
              "710828              NaN                     0             []    1622532468   \n",
              "710829              NaN                     0             []    1622532468   \n",
              "710830              NaN                     0             []    1622532468   \n",
              "710831              NaN                     0             []    1622532469   \n",
              "\n",
              "       updated_utc                                 body_sha1  \\\n",
              "0       1668691320  991d0f97d5346ee8d517d4e79244b38693792da2   \n",
              "1       1668691320  7268a8d27b5b0c2b20d04b6435708548c6d02574   \n",
              "2       1668691320  0787c7cbf545dc3af74b609fb338b9f5e2b3c6fb   \n",
              "3       1668691320  79b9e9e69a45ffe255cdb7a26b7c4a74cd89946e   \n",
              "4       1668691320  fb9d59f565bb633f59c9e935f4457b1e3533d354   \n",
              "...            ...                                       ...   \n",
              "710827  1668698082  efe27077dc42f6fc51c18bfb134e3a93af2522ce   \n",
              "710828  1668698082  a6dff6d04e7640ef1beeadf4c27274a028357e31   \n",
              "710829  1668698082  fe993932d6dced4c0a879e9aa5d7a6e0fbb467f5   \n",
              "710830  1668698082  5c6ad4c53977d25d703a37d4acf38b83faec6bcd   \n",
              "710831  1668698082  d0149795d5373312dfd4bf749b7b6601d60c36dc   \n",
              "\n",
              "           utc_datetime_str  nest_level  edited_on  author_cakeday  \n",
              "0       2021-01-01 01:58:59         NaN        NaN             NaN  \n",
              "1       2021-01-01 01:58:57         NaN        NaN             NaN  \n",
              "2       2021-01-01 01:58:56         NaN        NaN             NaN  \n",
              "3       2021-01-01 01:58:50         NaN        NaN             NaN  \n",
              "4       2021-01-01 01:58:50         NaN        NaN             NaN  \n",
              "...                     ...         ...        ...             ...  \n",
              "710827  2021-01-31 23:58:49         1.0        NaN             NaN  \n",
              "710828  2021-01-31 23:58:48         1.0        NaN             NaN  \n",
              "710829  2021-01-31 23:58:48         1.0        NaN             NaN  \n",
              "710830  2021-01-31 23:58:48         1.0        NaN             NaN  \n",
              "710831  2021-01-31 23:58:48         NaN        NaN             NaN  \n",
              "\n",
              "[710832 rows x 55 columns]"
            ],
            "text/html": [
              "\n",
              "  <div id=\"df-79a438e3-7e95-4114-b139-ab000d3dd389\">\n",
              "    <div class=\"colab-df-container\">\n",
              "      <div>\n",
              "<style scoped>\n",
              "    .dataframe tbody tr th:only-of-type {\n",
              "        vertical-align: middle;\n",
              "    }\n",
              "\n",
              "    .dataframe tbody tr th {\n",
              "        vertical-align: top;\n",
              "    }\n",
              "\n",
              "    .dataframe thead th {\n",
              "        text-align: right;\n",
              "    }\n",
              "</style>\n",
              "<table border=\"1\" class=\"dataframe\">\n",
              "  <thead>\n",
              "    <tr style=\"text-align: right;\">\n",
              "      <th></th>\n",
              "      <th>Unnamed: 0</th>\n",
              "      <th>all_awardings</th>\n",
              "      <th>associated_award</th>\n",
              "      <th>author</th>\n",
              "      <th>author_created_utc</th>\n",
              "      <th>author_flair_background_color</th>\n",
              "      <th>author_flair_css_class</th>\n",
              "      <th>author_flair_richtext</th>\n",
              "      <th>author_flair_template_id</th>\n",
              "      <th>author_flair_text</th>\n",
              "      <th>...</th>\n",
              "      <th>top_awarded_type</th>\n",
              "      <th>total_awards_received</th>\n",
              "      <th>treatment_tags</th>\n",
              "      <th>retrieved_utc</th>\n",
              "      <th>updated_utc</th>\n",
              "      <th>body_sha1</th>\n",
              "      <th>utc_datetime_str</th>\n",
              "      <th>nest_level</th>\n",
              "      <th>edited_on</th>\n",
              "      <th>author_cakeday</th>\n",
              "    </tr>\n",
              "  </thead>\n",
              "  <tbody>\n",
              "    <tr>\n",
              "      <th>0</th>\n",
              "      <td>0</td>\n",
              "      <td>[]</td>\n",
              "      <td>NaN</td>\n",
              "      <td>BadassMcGass</td>\n",
              "      <td>1.465992e+09</td>\n",
              "      <td>NaN</td>\n",
              "      <td>NaN</td>\n",
              "      <td>[]</td>\n",
              "      <td>NaN</td>\n",
              "      <td>NaN</td>\n",
              "      <td>...</td>\n",
              "      <td>NaN</td>\n",
              "      <td>0</td>\n",
              "      <td>[]</td>\n",
              "      <td>1620165462</td>\n",
              "      <td>1668691320</td>\n",
              "      <td>991d0f97d5346ee8d517d4e79244b38693792da2</td>\n",
              "      <td>2021-01-01 01:58:59</td>\n",
              "      <td>NaN</td>\n",
              "      <td>NaN</td>\n",
              "      <td>NaN</td>\n",
              "    </tr>\n",
              "    <tr>\n",
              "      <th>1</th>\n",
              "      <td>1</td>\n",
              "      <td>[]</td>\n",
              "      <td>NaN</td>\n",
              "      <td>Stockengineer</td>\n",
              "      <td>1.446783e+09</td>\n",
              "      <td>NaN</td>\n",
              "      <td>NaN</td>\n",
              "      <td>[]</td>\n",
              "      <td>NaN</td>\n",
              "      <td>NaN</td>\n",
              "      <td>...</td>\n",
              "      <td>NaN</td>\n",
              "      <td>0</td>\n",
              "      <td>[]</td>\n",
              "      <td>1620165461</td>\n",
              "      <td>1668691320</td>\n",
              "      <td>7268a8d27b5b0c2b20d04b6435708548c6d02574</td>\n",
              "      <td>2021-01-01 01:58:57</td>\n",
              "      <td>NaN</td>\n",
              "      <td>NaN</td>\n",
              "      <td>NaN</td>\n",
              "    </tr>\n",
              "    <tr>\n",
              "      <th>2</th>\n",
              "      <td>2</td>\n",
              "      <td>[]</td>\n",
              "      <td>NaN</td>\n",
              "      <td>laramidian</td>\n",
              "      <td>NaN</td>\n",
              "      <td>NaN</td>\n",
              "      <td>NaN</td>\n",
              "      <td>[]</td>\n",
              "      <td>NaN</td>\n",
              "      <td>NaN</td>\n",
              "      <td>...</td>\n",
              "      <td>NaN</td>\n",
              "      <td>0</td>\n",
              "      <td>[]</td>\n",
              "      <td>1620165461</td>\n",
              "      <td>1668691320</td>\n",
              "      <td>0787c7cbf545dc3af74b609fb338b9f5e2b3c6fb</td>\n",
              "      <td>2021-01-01 01:58:56</td>\n",
              "      <td>NaN</td>\n",
              "      <td>NaN</td>\n",
              "      <td>NaN</td>\n",
              "    </tr>\n",
              "    <tr>\n",
              "      <th>3</th>\n",
              "      <td>3</td>\n",
              "      <td>[]</td>\n",
              "      <td>NaN</td>\n",
              "      <td>Houston_swimmer</td>\n",
              "      <td>1.535375e+09</td>\n",
              "      <td>#373c3f</td>\n",
              "      <td>NaN</td>\n",
              "      <td>[{'e': 'text', 't': 'Better With Pictures'}]</td>\n",
              "      <td>28fbe25a-7c59-11ea-965e-0e0a65cd3f97</td>\n",
              "      <td>Better With Pictures</td>\n",
              "      <td>...</td>\n",
              "      <td>NaN</td>\n",
              "      <td>0</td>\n",
              "      <td>[]</td>\n",
              "      <td>1620165456</td>\n",
              "      <td>1668691320</td>\n",
              "      <td>79b9e9e69a45ffe255cdb7a26b7c4a74cd89946e</td>\n",
              "      <td>2021-01-01 01:58:50</td>\n",
              "      <td>NaN</td>\n",
              "      <td>NaN</td>\n",
              "      <td>NaN</td>\n",
              "    </tr>\n",
              "    <tr>\n",
              "      <th>4</th>\n",
              "      <td>4</td>\n",
              "      <td>[]</td>\n",
              "      <td>NaN</td>\n",
              "      <td>GoBeaversOSU</td>\n",
              "      <td>1.423722e+09</td>\n",
              "      <td>#ff4500</td>\n",
              "      <td>NaN</td>\n",
              "      <td>[{'a': ':benny:', 'e': 'emoji', 'u': 'https://...</td>\n",
              "      <td>57c0331a-0d2e-11ea-86f4-0ef7601af6ab</td>\n",
              "      <td>:benny:</td>\n",
              "      <td>...</td>\n",
              "      <td>NaN</td>\n",
              "      <td>0</td>\n",
              "      <td>[]</td>\n",
              "      <td>1620165456</td>\n",
              "      <td>1668691320</td>\n",
              "      <td>fb9d59f565bb633f59c9e935f4457b1e3533d354</td>\n",
              "      <td>2021-01-01 01:58:50</td>\n",
              "      <td>NaN</td>\n",
              "      <td>NaN</td>\n",
              "      <td>NaN</td>\n",
              "    </tr>\n",
              "    <tr>\n",
              "      <th>...</th>\n",
              "      <td>...</td>\n",
              "      <td>...</td>\n",
              "      <td>...</td>\n",
              "      <td>...</td>\n",
              "      <td>...</td>\n",
              "      <td>...</td>\n",
              "      <td>...</td>\n",
              "      <td>...</td>\n",
              "      <td>...</td>\n",
              "      <td>...</td>\n",
              "      <td>...</td>\n",
              "      <td>...</td>\n",
              "      <td>...</td>\n",
              "      <td>...</td>\n",
              "      <td>...</td>\n",
              "      <td>...</td>\n",
              "      <td>...</td>\n",
              "      <td>...</td>\n",
              "      <td>...</td>\n",
              "      <td>...</td>\n",
              "      <td>...</td>\n",
              "    </tr>\n",
              "    <tr>\n",
              "      <th>710827</th>\n",
              "      <td>995</td>\n",
              "      <td>[]</td>\n",
              "      <td>NaN</td>\n",
              "      <td>Jimmy070</td>\n",
              "      <td>NaN</td>\n",
              "      <td>NaN</td>\n",
              "      <td>NaN</td>\n",
              "      <td>[]</td>\n",
              "      <td>NaN</td>\n",
              "      <td>NaN</td>\n",
              "      <td>...</td>\n",
              "      <td>NaN</td>\n",
              "      <td>0</td>\n",
              "      <td>[]</td>\n",
              "      <td>1622532469</td>\n",
              "      <td>1668698082</td>\n",
              "      <td>efe27077dc42f6fc51c18bfb134e3a93af2522ce</td>\n",
              "      <td>2021-01-31 23:58:49</td>\n",
              "      <td>1.0</td>\n",
              "      <td>NaN</td>\n",
              "      <td>NaN</td>\n",
              "    </tr>\n",
              "    <tr>\n",
              "      <th>710828</th>\n",
              "      <td>996</td>\n",
              "      <td>[]</td>\n",
              "      <td>NaN</td>\n",
              "      <td>Congo7500</td>\n",
              "      <td>NaN</td>\n",
              "      <td>NaN</td>\n",
              "      <td>NaN</td>\n",
              "      <td>[]</td>\n",
              "      <td>NaN</td>\n",
              "      <td>NaN</td>\n",
              "      <td>...</td>\n",
              "      <td>NaN</td>\n",
              "      <td>0</td>\n",
              "      <td>[]</td>\n",
              "      <td>1622532468</td>\n",
              "      <td>1668698082</td>\n",
              "      <td>a6dff6d04e7640ef1beeadf4c27274a028357e31</td>\n",
              "      <td>2021-01-31 23:58:48</td>\n",
              "      <td>1.0</td>\n",
              "      <td>NaN</td>\n",
              "      <td>NaN</td>\n",
              "    </tr>\n",
              "    <tr>\n",
              "      <th>710829</th>\n",
              "      <td>997</td>\n",
              "      <td>[]</td>\n",
              "      <td>NaN</td>\n",
              "      <td>[deleted]</td>\n",
              "      <td>NaN</td>\n",
              "      <td>NaN</td>\n",
              "      <td>NaN</td>\n",
              "      <td>NaN</td>\n",
              "      <td>NaN</td>\n",
              "      <td>NaN</td>\n",
              "      <td>...</td>\n",
              "      <td>NaN</td>\n",
              "      <td>0</td>\n",
              "      <td>[]</td>\n",
              "      <td>1622532468</td>\n",
              "      <td>1668698082</td>\n",
              "      <td>fe993932d6dced4c0a879e9aa5d7a6e0fbb467f5</td>\n",
              "      <td>2021-01-31 23:58:48</td>\n",
              "      <td>1.0</td>\n",
              "      <td>NaN</td>\n",
              "      <td>NaN</td>\n",
              "    </tr>\n",
              "    <tr>\n",
              "      <th>710830</th>\n",
              "      <td>998</td>\n",
              "      <td>[]</td>\n",
              "      <td>NaN</td>\n",
              "      <td>AdministrativeWall61</td>\n",
              "      <td>NaN</td>\n",
              "      <td>NaN</td>\n",
              "      <td>NaN</td>\n",
              "      <td>[]</td>\n",
              "      <td>NaN</td>\n",
              "      <td>NaN</td>\n",
              "      <td>...</td>\n",
              "      <td>NaN</td>\n",
              "      <td>0</td>\n",
              "      <td>[]</td>\n",
              "      <td>1622532468</td>\n",
              "      <td>1668698082</td>\n",
              "      <td>5c6ad4c53977d25d703a37d4acf38b83faec6bcd</td>\n",
              "      <td>2021-01-31 23:58:48</td>\n",
              "      <td>1.0</td>\n",
              "      <td>NaN</td>\n",
              "      <td>NaN</td>\n",
              "    </tr>\n",
              "    <tr>\n",
              "      <th>710831</th>\n",
              "      <td>999</td>\n",
              "      <td>[]</td>\n",
              "      <td>NaN</td>\n",
              "      <td>dirtydeetzz</td>\n",
              "      <td>NaN</td>\n",
              "      <td>NaN</td>\n",
              "      <td>NaN</td>\n",
              "      <td>[]</td>\n",
              "      <td>NaN</td>\n",
              "      <td>NaN</td>\n",
              "      <td>...</td>\n",
              "      <td>NaN</td>\n",
              "      <td>0</td>\n",
              "      <td>[]</td>\n",
              "      <td>1622532469</td>\n",
              "      <td>1668698082</td>\n",
              "      <td>d0149795d5373312dfd4bf749b7b6601d60c36dc</td>\n",
              "      <td>2021-01-31 23:58:48</td>\n",
              "      <td>NaN</td>\n",
              "      <td>NaN</td>\n",
              "      <td>NaN</td>\n",
              "    </tr>\n",
              "  </tbody>\n",
              "</table>\n",
              "<p>710832 rows × 55 columns</p>\n",
              "</div>\n",
              "      <button class=\"colab-df-convert\" onclick=\"convertToInteractive('df-79a438e3-7e95-4114-b139-ab000d3dd389')\"\n",
              "              title=\"Convert this dataframe to an interactive table.\"\n",
              "              style=\"display:none;\">\n",
              "        \n",
              "  <svg xmlns=\"http://www.w3.org/2000/svg\" height=\"24px\"viewBox=\"0 0 24 24\"\n",
              "       width=\"24px\">\n",
              "    <path d=\"M0 0h24v24H0V0z\" fill=\"none\"/>\n",
              "    <path d=\"M18.56 5.44l.94 2.06.94-2.06 2.06-.94-2.06-.94-.94-2.06-.94 2.06-2.06.94zm-11 1L8.5 8.5l.94-2.06 2.06-.94-2.06-.94L8.5 2.5l-.94 2.06-2.06.94zm10 10l.94 2.06.94-2.06 2.06-.94-2.06-.94-.94-2.06-.94 2.06-2.06.94z\"/><path d=\"M17.41 7.96l-1.37-1.37c-.4-.4-.92-.59-1.43-.59-.52 0-1.04.2-1.43.59L10.3 9.45l-7.72 7.72c-.78.78-.78 2.05 0 2.83L4 21.41c.39.39.9.59 1.41.59.51 0 1.02-.2 1.41-.59l7.78-7.78 2.81-2.81c.8-.78.8-2.07 0-2.86zM5.41 20L4 18.59l7.72-7.72 1.47 1.35L5.41 20z\"/>\n",
              "  </svg>\n",
              "      </button>\n",
              "      \n",
              "  <style>\n",
              "    .colab-df-container {\n",
              "      display:flex;\n",
              "      flex-wrap:wrap;\n",
              "      gap: 12px;\n",
              "    }\n",
              "\n",
              "    .colab-df-convert {\n",
              "      background-color: #E8F0FE;\n",
              "      border: none;\n",
              "      border-radius: 50%;\n",
              "      cursor: pointer;\n",
              "      display: none;\n",
              "      fill: #1967D2;\n",
              "      height: 32px;\n",
              "      padding: 0 0 0 0;\n",
              "      width: 32px;\n",
              "    }\n",
              "\n",
              "    .colab-df-convert:hover {\n",
              "      background-color: #E2EBFA;\n",
              "      box-shadow: 0px 1px 2px rgba(60, 64, 67, 0.3), 0px 1px 3px 1px rgba(60, 64, 67, 0.15);\n",
              "      fill: #174EA6;\n",
              "    }\n",
              "\n",
              "    [theme=dark] .colab-df-convert {\n",
              "      background-color: #3B4455;\n",
              "      fill: #D2E3FC;\n",
              "    }\n",
              "\n",
              "    [theme=dark] .colab-df-convert:hover {\n",
              "      background-color: #434B5C;\n",
              "      box-shadow: 0px 1px 3px 1px rgba(0, 0, 0, 0.15);\n",
              "      filter: drop-shadow(0px 1px 2px rgba(0, 0, 0, 0.3));\n",
              "      fill: #FFFFFF;\n",
              "    }\n",
              "  </style>\n",
              "\n",
              "      <script>\n",
              "        const buttonEl =\n",
              "          document.querySelector('#df-79a438e3-7e95-4114-b139-ab000d3dd389 button.colab-df-convert');\n",
              "        buttonEl.style.display =\n",
              "          google.colab.kernel.accessAllowed ? 'block' : 'none';\n",
              "\n",
              "        async function convertToInteractive(key) {\n",
              "          const element = document.querySelector('#df-79a438e3-7e95-4114-b139-ab000d3dd389');\n",
              "          const dataTable =\n",
              "            await google.colab.kernel.invokeFunction('convertToInteractive',\n",
              "                                                     [key], {});\n",
              "          if (!dataTable) return;\n",
              "\n",
              "          const docLinkHtml = 'Like what you see? Visit the ' +\n",
              "            '<a target=\"_blank\" href=https://colab.research.google.com/notebooks/data_table.ipynb>data table notebook</a>'\n",
              "            + ' to learn more about interactive tables.';\n",
              "          element.innerHTML = '';\n",
              "          dataTable['output_type'] = 'display_data';\n",
              "          await google.colab.output.renderOutput(dataTable, element);\n",
              "          const docLink = document.createElement('div');\n",
              "          docLink.innerHTML = docLinkHtml;\n",
              "          element.appendChild(docLink);\n",
              "        }\n",
              "      </script>\n",
              "    </div>\n",
              "  </div>\n",
              "  "
            ]
          },
          "metadata": {},
          "execution_count": 145
        }
      ]
    },
    {
      "cell_type": "code",
      "source": [
        "#setting up the reddit data\n",
        "\n",
        "data['datetime'] = pd.to_datetime(data['utc_datetime_str'])\n",
        "data['day'] = data['datetime'].dt.day\n",
        "data['hour'] = data['datetime'].dt.hour\n",
        "data['month'] = data['datetime'].dt.month\n",
        "data['minute'] = data['datetime'].dt.minute\n",
        "data['second'] = data['datetime'].dt.day\n",
        "datasubset = data.loc[:,['day', 'hour','month', 'body']]\n",
        "datasubset"
      ],
      "metadata": {
        "colab": {
          "base_uri": "https://localhost:8080/",
          "height": 419
        },
        "id": "MQ0E5Ol8iu3g",
        "outputId": "4980bfda-ce81-492b-e794-ca5f7245d2ee"
      },
      "execution_count": null,
      "outputs": [
        {
          "output_type": "execute_result",
          "data": {
            "text/plain": [
              "        day  hour  month                                               body\n",
              "0         1     1      1  I was joking guy. In general, if you're risk a...\n",
              "1         1     1      1            sold at 69 before it mooned to 140s lol\n",
              "2         1     1      1        lolno did you witness the last 30 min today\n",
              "3         1     1      1                     Sounds like a shitty situation\n",
              "4         1     1      1  r/cfb likes WSB jokes like *Puts on Trask winn...\n",
              "...     ...   ...    ...                                                ...\n",
              "710827   31    23      1  Was in agreement tell, \"Your Brokerage will ne...\n",
              "710828   31    23      1  Why not invest in Moderna, real value great pr...\n",
              "710829   31    23      1                                          [removed]\n",
              "710830   31    23      1  Is $AMC supposed to be going up and should I i...\n",
              "710831   31    23      1                               🍌 hold ! 🦍 💪🏽 ! 🚀 🌚!\n",
              "\n",
              "[710832 rows x 4 columns]"
            ],
            "text/html": [
              "\n",
              "  <div id=\"df-8752bee8-1a7d-4d7c-8a66-78ba2bb3f59c\">\n",
              "    <div class=\"colab-df-container\">\n",
              "      <div>\n",
              "<style scoped>\n",
              "    .dataframe tbody tr th:only-of-type {\n",
              "        vertical-align: middle;\n",
              "    }\n",
              "\n",
              "    .dataframe tbody tr th {\n",
              "        vertical-align: top;\n",
              "    }\n",
              "\n",
              "    .dataframe thead th {\n",
              "        text-align: right;\n",
              "    }\n",
              "</style>\n",
              "<table border=\"1\" class=\"dataframe\">\n",
              "  <thead>\n",
              "    <tr style=\"text-align: right;\">\n",
              "      <th></th>\n",
              "      <th>day</th>\n",
              "      <th>hour</th>\n",
              "      <th>month</th>\n",
              "      <th>body</th>\n",
              "    </tr>\n",
              "  </thead>\n",
              "  <tbody>\n",
              "    <tr>\n",
              "      <th>0</th>\n",
              "      <td>1</td>\n",
              "      <td>1</td>\n",
              "      <td>1</td>\n",
              "      <td>I was joking guy. In general, if you're risk a...</td>\n",
              "    </tr>\n",
              "    <tr>\n",
              "      <th>1</th>\n",
              "      <td>1</td>\n",
              "      <td>1</td>\n",
              "      <td>1</td>\n",
              "      <td>sold at 69 before it mooned to 140s lol</td>\n",
              "    </tr>\n",
              "    <tr>\n",
              "      <th>2</th>\n",
              "      <td>1</td>\n",
              "      <td>1</td>\n",
              "      <td>1</td>\n",
              "      <td>lolno did you witness the last 30 min today</td>\n",
              "    </tr>\n",
              "    <tr>\n",
              "      <th>3</th>\n",
              "      <td>1</td>\n",
              "      <td>1</td>\n",
              "      <td>1</td>\n",
              "      <td>Sounds like a shitty situation</td>\n",
              "    </tr>\n",
              "    <tr>\n",
              "      <th>4</th>\n",
              "      <td>1</td>\n",
              "      <td>1</td>\n",
              "      <td>1</td>\n",
              "      <td>r/cfb likes WSB jokes like *Puts on Trask winn...</td>\n",
              "    </tr>\n",
              "    <tr>\n",
              "      <th>...</th>\n",
              "      <td>...</td>\n",
              "      <td>...</td>\n",
              "      <td>...</td>\n",
              "      <td>...</td>\n",
              "    </tr>\n",
              "    <tr>\n",
              "      <th>710827</th>\n",
              "      <td>31</td>\n",
              "      <td>23</td>\n",
              "      <td>1</td>\n",
              "      <td>Was in agreement tell, \"Your Brokerage will ne...</td>\n",
              "    </tr>\n",
              "    <tr>\n",
              "      <th>710828</th>\n",
              "      <td>31</td>\n",
              "      <td>23</td>\n",
              "      <td>1</td>\n",
              "      <td>Why not invest in Moderna, real value great pr...</td>\n",
              "    </tr>\n",
              "    <tr>\n",
              "      <th>710829</th>\n",
              "      <td>31</td>\n",
              "      <td>23</td>\n",
              "      <td>1</td>\n",
              "      <td>[removed]</td>\n",
              "    </tr>\n",
              "    <tr>\n",
              "      <th>710830</th>\n",
              "      <td>31</td>\n",
              "      <td>23</td>\n",
              "      <td>1</td>\n",
              "      <td>Is $AMC supposed to be going up and should I i...</td>\n",
              "    </tr>\n",
              "    <tr>\n",
              "      <th>710831</th>\n",
              "      <td>31</td>\n",
              "      <td>23</td>\n",
              "      <td>1</td>\n",
              "      <td>🍌 hold ! 🦍 💪🏽 ! 🚀 🌚!</td>\n",
              "    </tr>\n",
              "  </tbody>\n",
              "</table>\n",
              "<p>710832 rows × 4 columns</p>\n",
              "</div>\n",
              "      <button class=\"colab-df-convert\" onclick=\"convertToInteractive('df-8752bee8-1a7d-4d7c-8a66-78ba2bb3f59c')\"\n",
              "              title=\"Convert this dataframe to an interactive table.\"\n",
              "              style=\"display:none;\">\n",
              "        \n",
              "  <svg xmlns=\"http://www.w3.org/2000/svg\" height=\"24px\"viewBox=\"0 0 24 24\"\n",
              "       width=\"24px\">\n",
              "    <path d=\"M0 0h24v24H0V0z\" fill=\"none\"/>\n",
              "    <path d=\"M18.56 5.44l.94 2.06.94-2.06 2.06-.94-2.06-.94-.94-2.06-.94 2.06-2.06.94zm-11 1L8.5 8.5l.94-2.06 2.06-.94-2.06-.94L8.5 2.5l-.94 2.06-2.06.94zm10 10l.94 2.06.94-2.06 2.06-.94-2.06-.94-.94-2.06-.94 2.06-2.06.94z\"/><path d=\"M17.41 7.96l-1.37-1.37c-.4-.4-.92-.59-1.43-.59-.52 0-1.04.2-1.43.59L10.3 9.45l-7.72 7.72c-.78.78-.78 2.05 0 2.83L4 21.41c.39.39.9.59 1.41.59.51 0 1.02-.2 1.41-.59l7.78-7.78 2.81-2.81c.8-.78.8-2.07 0-2.86zM5.41 20L4 18.59l7.72-7.72 1.47 1.35L5.41 20z\"/>\n",
              "  </svg>\n",
              "      </button>\n",
              "      \n",
              "  <style>\n",
              "    .colab-df-container {\n",
              "      display:flex;\n",
              "      flex-wrap:wrap;\n",
              "      gap: 12px;\n",
              "    }\n",
              "\n",
              "    .colab-df-convert {\n",
              "      background-color: #E8F0FE;\n",
              "      border: none;\n",
              "      border-radius: 50%;\n",
              "      cursor: pointer;\n",
              "      display: none;\n",
              "      fill: #1967D2;\n",
              "      height: 32px;\n",
              "      padding: 0 0 0 0;\n",
              "      width: 32px;\n",
              "    }\n",
              "\n",
              "    .colab-df-convert:hover {\n",
              "      background-color: #E2EBFA;\n",
              "      box-shadow: 0px 1px 2px rgba(60, 64, 67, 0.3), 0px 1px 3px 1px rgba(60, 64, 67, 0.15);\n",
              "      fill: #174EA6;\n",
              "    }\n",
              "\n",
              "    [theme=dark] .colab-df-convert {\n",
              "      background-color: #3B4455;\n",
              "      fill: #D2E3FC;\n",
              "    }\n",
              "\n",
              "    [theme=dark] .colab-df-convert:hover {\n",
              "      background-color: #434B5C;\n",
              "      box-shadow: 0px 1px 3px 1px rgba(0, 0, 0, 0.15);\n",
              "      filter: drop-shadow(0px 1px 2px rgba(0, 0, 0, 0.3));\n",
              "      fill: #FFFFFF;\n",
              "    }\n",
              "  </style>\n",
              "\n",
              "      <script>\n",
              "        const buttonEl =\n",
              "          document.querySelector('#df-8752bee8-1a7d-4d7c-8a66-78ba2bb3f59c button.colab-df-convert');\n",
              "        buttonEl.style.display =\n",
              "          google.colab.kernel.accessAllowed ? 'block' : 'none';\n",
              "\n",
              "        async function convertToInteractive(key) {\n",
              "          const element = document.querySelector('#df-8752bee8-1a7d-4d7c-8a66-78ba2bb3f59c');\n",
              "          const dataTable =\n",
              "            await google.colab.kernel.invokeFunction('convertToInteractive',\n",
              "                                                     [key], {});\n",
              "          if (!dataTable) return;\n",
              "\n",
              "          const docLinkHtml = 'Like what you see? Visit the ' +\n",
              "            '<a target=\"_blank\" href=https://colab.research.google.com/notebooks/data_table.ipynb>data table notebook</a>'\n",
              "            + ' to learn more about interactive tables.';\n",
              "          element.innerHTML = '';\n",
              "          dataTable['output_type'] = 'display_data';\n",
              "          await google.colab.output.renderOutput(dataTable, element);\n",
              "          const docLink = document.createElement('div');\n",
              "          docLink.innerHTML = docLinkHtml;\n",
              "          element.appendChild(docLink);\n",
              "        }\n",
              "      </script>\n",
              "    </div>\n",
              "  </div>\n",
              "  "
            ]
          },
          "metadata": {},
          "execution_count": 114
        }
      ]
    },
    {
      "cell_type": "code",
      "source": [
        "datasubset['body'][122221]"
      ],
      "metadata": {
        "colab": {
          "base_uri": "https://localhost:8080/",
          "height": 35
        },
        "id": "1gWp_vCt2AHr",
        "outputId": "23edd1d3-0b00-4096-da45-47d671ccef90"
      },
      "execution_count": null,
      "outputs": [
        {
          "output_type": "execute_result",
          "data": {
            "text/plain": [
              "\"I'm just glad I yolod shares and not calls\""
            ],
            "application/vnd.google.colaboratory.intrinsic+json": {
              "type": "string"
            }
          },
          "metadata": {},
          "execution_count": 139
        }
      ]
    },
    {
      "cell_type": "code",
      "source": [
        "datasubset['body'][1212]"
      ],
      "metadata": {
        "colab": {
          "base_uri": "https://localhost:8080/",
          "height": 35
        },
        "id": "_jB8RYyC2caa",
        "outputId": "785f21c2-5e4e-428a-b261-ed99a0d66e3c"
      },
      "execution_count": null,
      "outputs": [
        {
          "output_type": "execute_result",
          "data": {
            "text/plain": [
              "'🤣🤣🤣🤣🤣🤣🤣🤣🤣'"
            ],
            "application/vnd.google.colaboratory.intrinsic+json": {
              "type": "string"
            }
          },
          "metadata": {},
          "execution_count": 138
        }
      ]
    },
    {
      "cell_type": "code",
      "source": [
        "import emoji\n",
        "\n",
        "# Define a function to map emojis to their textual representation\n",
        "def map_emojis(text):\n",
        "    for emoji_char in emoji.emojize(text):\n",
        "        emoji_name = emoji.demojize(emoji_char).replace(':', '').replace('_', ' ')\n",
        "        text = text.replace(emoji_char, emoji_name)\n",
        "    return text\n",
        "\n",
        "# Example usage\n",
        "text_with_emojis = \"I love ❤️ Python 🐍!\"\n",
        "text_without_emojis = map_emojis(text_with_emojis)\n",
        "print(text_without_emojis)\n"
      ],
      "metadata": {
        "colab": {
          "base_uri": "https://localhost:8080/"
        },
        "id": "h3V0KiAfjbrf",
        "outputId": "ad5ca4a2-8d03-4374-cd5d-23ef82fc707c"
      },
      "execution_count": null,
      "outputs": [
        {
          "output_type": "stream",
          "name": "stdout",
          "text": [
            "I love red heart Python snake!\n"
          ]
        }
      ]
    },
    {
      "cell_type": "markdown",
      "source": [],
      "metadata": {
        "id": "2UJzky6ZlIU-"
      }
    },
    {
      "cell_type": "markdown",
      "source": [
        "## updating the lexicon"
      ],
      "metadata": {
        "id": "UngWrpSifnTo"
      }
    },
    {
      "cell_type": "code",
      "source": [
        "analyzer = SentimentIntensityAnalyzer()"
      ],
      "metadata": {
        "id": "aAODsQZUZqY5"
      },
      "execution_count": null,
      "outputs": []
    },
    {
      "cell_type": "code",
      "source": [
        "newwords = pd.read_csv('/content/new words final - Sheet1.csv')\n",
        "newwords.info()"
      ],
      "metadata": {
        "colab": {
          "base_uri": "https://localhost:8080/"
        },
        "id": "IOH8CgHoUqpq",
        "outputId": "900d4b5e-0af4-4201-85b2-e9393c372e08"
      },
      "execution_count": null,
      "outputs": [
        {
          "output_type": "stream",
          "name": "stdout",
          "text": [
            "<class 'pandas.core.frame.DataFrame'>\n",
            "RangeIndex: 130 entries, 0 to 129\n",
            "Data columns (total 2 columns):\n",
            " #   Column         Non-Null Count  Dtype  \n",
            "---  ------         --------------  -----  \n",
            " 0   word           130 non-null    object \n",
            " 1   valence_score  130 non-null    float64\n",
            "dtypes: float64(1), object(1)\n",
            "memory usage: 2.2+ KB\n"
          ]
        }
      ]
    },
    {
      "cell_type": "code",
      "source": [
        "keys = list(newwords['word'])\n",
        "value = list(newwords['valence_score'])\n",
        "\n",
        "my_dict = dict(zip(keys, value))\n",
        "\n",
        "print(my_dict)"
      ],
      "metadata": {
        "colab": {
          "base_uri": "https://localhost:8080/"
        },
        "id": "HBAJl4XCdTp7",
        "outputId": "e22002c9-4392-4c99-f249-87dce4e2da96"
      },
      "execution_count": null,
      "outputs": [
        {
          "output_type": "stream",
          "name": "stdout",
          "text": [
            "{'available': 0.8, 'awesome': 3.7, 'baby': 1.2, 'bad': -2.7, 'ball': 0.4, 'bull': 2.8, 'bullshit': -2.4, 'buy': 1.9, 'call': 0.9, 'future': 1.1, 'gain': 2.2, 'gamma': 0.0, 'gang': -0.3, 'gold': 2.0, 'good': 2.5, 'great': 3.1, 'green': 2.0, 'hand': 0.1, 'party': 0.8, 'penny': -0.2, 'poor': -1.9, 'possible': 0.8, 'potential': 1.4, 'power': 2.2, 'pretty': 2.3, 'probably': 0.4, 'top': 2.4, 'trade': 0.6, 'value': 1.3, 'win': 2.7, 'worth': 1.9, 'wrong': -1.8, 'yolo': 2.4, 'advice': 1.3, 'alternative': 0.9, 'amazing': 3.2, 'ass': -1.9, 'attack': -1.9, 'capital': 1.0, 'fact': 0.3, 'fake': -2.3, 'fight': -1.2, 'fine': 1.3, 'flair': 1.4, 'fuck': -2.8, 'fucking': -2.7, 'fun': 1.9, 'funny': 1.9, 'problem': -2.3, 'profit': 2.5, 'proud': 2.1, 'pump': -0.5, 'purchase': 1.3, 'push': 0.5, 'quick': 0.8, 'retard': -2.2, 'share': 0.8, 'shit': -2.6, 'short': -1.8, 'silver': -0.2, 'small': -0.3, 'squeeze': -1.6, 'star': 2.4, 'stonk': 1.5, 'stop': -0.8, 'cash': 0.6, 'concern': -1.3, 'crash': -3.2, 'crazy': 0.7, 'crypto': 0.5, 'damn': -1.7, 'diamond': 2.9, 'hard': -1.1, 'hedge': 0.5, 'hell': -2.5, 'high': 2.4, 'hodl': 2.8, 'hold': 1.5, 'holding': 1.6, 'hope': 1.5, 'limit': -0.4, 'lmao': 2.6, 'lol': 1.0, 'long': 1.8, 'loss': -2.5, 'love': 2.3, 'low': -1.7, 'luck': 2.1, 'revolution': 2.0, 'rich': 2.5, 'ride': 1.0, 'rocket': 2.8, 'sale': -0.7, 'scare': -2.3, 'scared': -2.6, 'sell': -1.8, 'seller': -1.3, 'selling': -1.9, 'diamond_hand': 3.0, 'dip': -0.4, 'dumb': -1.9, 'earning': 1.8, 'easy': 1.6, 'end': -0.8, 'enough': 0.1, 'hype': 1.2, 'idiot': -2.6, 'illegal': -3.2, 'interest': 1.1, 'issue': -1.1, 'joke': -0.5, 'jump': 1.4, 'least': -0.4, 'legal': 1.9, 'manipulation': -2.3, 'margin': -0.1, 'moment': 0.7, 'moon': 2.1, 'movement': 0.9, 'naked': -1.1, 'nice': 2.0, 'order': 0.4, 'panic': -3.0, 'straight': 1.0, 'strong': 2.1, 'stupid': -2.1, 'support': 2.2, 'target': 1.3, 'tendie': 1.7, 'to_the_moon': 3.5}\n"
          ]
        }
      ]
    },
    {
      "cell_type": "code",
      "source": [
        "analyzer.lexicon.update(my_dict)"
      ],
      "metadata": {
        "id": "_ikbzhLPZlOR"
      },
      "execution_count": null,
      "outputs": []
    },
    {
      "cell_type": "code",
      "source": [
        "len(analyzer.lexicon)"
      ],
      "metadata": {
        "colab": {
          "base_uri": "https://localhost:8080/"
        },
        "id": "E0yFxq-oZsA1",
        "outputId": "9551f25d-0c0a-4c3e-feab-a31d35caed2d"
      },
      "execution_count": null,
      "outputs": [
        {
          "output_type": "execute_result",
          "data": {
            "text/plain": [
              "7570"
            ]
          },
          "metadata": {},
          "execution_count": 118
        }
      ]
    },
    {
      "cell_type": "code",
      "source": [
        "analyzer.lexicon['to_the_moon']"
      ],
      "metadata": {
        "colab": {
          "base_uri": "https://localhost:8080/"
        },
        "id": "-3iJhS5Qmq9_",
        "outputId": "e9ec3549-278d-4504-d2af-4639fee196da"
      },
      "execution_count": null,
      "outputs": [
        {
          "output_type": "execute_result",
          "data": {
            "text/plain": [
              "3.5"
            ]
          },
          "metadata": {},
          "execution_count": 119
        }
      ]
    },
    {
      "cell_type": "markdown",
      "source": [
        "## finding the sentiment scores using the new analzyer"
      ],
      "metadata": {
        "id": "nbeYXC7bqP7M"
      }
    },
    {
      "cell_type": "code",
      "source": [
        "\n",
        "\n",
        "# Define the string to analyze\n",
        "text = \":)\"\n",
        "\n",
        "\n",
        "\n",
        "# Use the polarity_scores() method to get the sentiment scores for the text\n",
        "scores = analyzer.polarity_scores(text)\n",
        "\n",
        "# Print the polarity scores\n",
        "print(scores)"
      ],
      "metadata": {
        "colab": {
          "base_uri": "https://localhost:8080/"
        },
        "id": "H2-S3Vpqdx3j",
        "outputId": "aafeab33-f6fb-4d6a-f63f-b2a08542d4a0"
      },
      "execution_count": null,
      "outputs": [
        {
          "output_type": "stream",
          "name": "stdout",
          "text": [
            "{'neg': 0.0, 'neu': 0.0, 'pos': 1.0, 'compound': 0.4588}\n"
          ]
        }
      ]
    },
    {
      "cell_type": "code",
      "source": [
        "text = \"🙂\"\n",
        "text = map_emojis(text)\n",
        "text"
      ],
      "metadata": {
        "colab": {
          "base_uri": "https://localhost:8080/",
          "height": 35
        },
        "id": "4pMCJbbq14K2",
        "outputId": "917c37ab-5c94-4eb7-92f1-3ee1e980b779"
      },
      "execution_count": null,
      "outputs": [
        {
          "output_type": "execute_result",
          "data": {
            "text/plain": [
              "'slightly smiling face'"
            ],
            "application/vnd.google.colaboratory.intrinsic+json": {
              "type": "string"
            }
          },
          "metadata": {},
          "execution_count": 132
        }
      ]
    },
    {
      "cell_type": "code",
      "source": [
        "# Define the string to analyze\n",
        "text = \"YOLO! I Think YOU MY FRIEND mUst SELL The STOCKKKKK!\"\n",
        "\n",
        "# Use the polarity_scores() method to get the sentiment scores for the text\n",
        "scores = analyzer.polarity_scores(text)\n",
        "\n",
        "# Print the polarity scores\n",
        "print(scores)"
      ],
      "metadata": {
        "colab": {
          "base_uri": "https://localhost:8080/"
        },
        "id": "GmqJm3X7mFPA",
        "outputId": "1ae309dc-45c8-4003-9819-006c8d66a0a6"
      },
      "execution_count": null,
      "outputs": [
        {
          "output_type": "stream",
          "name": "stdout",
          "text": [
            "{'neg': 0.194, 'neu': 0.33, 'pos': 0.476, 'compound': 0.7284}\n"
          ]
        }
      ]
    },
    {
      "cell_type": "code",
      "source": [
        "# Define the string to analyze\n",
        "text = \"YOLO!\"\n",
        "\n",
        "# Use the polarity_scores() method to get the sentiment scores for the text\n",
        "scores = analyzer.polarity_scores(text)\n",
        "\n",
        "# Print the polarity scores\n",
        "print(scores)"
      ],
      "metadata": {
        "colab": {
          "base_uri": "https://localhost:8080/"
        },
        "id": "OjkpBLr3mN4Q",
        "outputId": "fe71b969-ed66-417a-b07d-a55431699aed"
      },
      "execution_count": null,
      "outputs": [
        {
          "output_type": "stream",
          "name": "stdout",
          "text": [
            "{'neg': 0.0, 'neu': 0.0, 'pos': 1.0, 'compound': 0.5707}\n"
          ]
        }
      ]
    },
    {
      "cell_type": "code",
      "source": [
        "# Define the string to analyze\n",
        "text = \"yolo\"\n",
        "\n",
        "# Use the polarity_scores() method to get the sentiment scores for the text\n",
        "scores = analyzer.polarity_scores(text)\n",
        "\n",
        "# Print the polarity scores\n",
        "print(scores)"
      ],
      "metadata": {
        "colab": {
          "base_uri": "https://localhost:8080/"
        },
        "id": "dNQlDxE3mS4-",
        "outputId": "11e3ce63-5aa7-4483-db03-4294b6b07ca0"
      },
      "execution_count": null,
      "outputs": [
        {
          "output_type": "stream",
          "name": "stdout",
          "text": [
            "{'neg': 0.0, 'neu': 0.0, 'pos': 1.0, 'compound': 0.5267}\n"
          ]
        }
      ]
    },
    {
      "cell_type": "code",
      "source": [
        "# Define the string to analyze\n",
        "text = \"this is like completely! to the moon\"\n",
        "\n",
        "# Use the polarity_scores() method to get the sentiment scores for the text\n",
        "scores = analyzer.polarity_scores(text)\n",
        "\n",
        "# Print the polarity scores\n",
        "print(scores)"
      ],
      "metadata": {
        "colab": {
          "base_uri": "https://localhost:8080/"
        },
        "id": "O4kUR83amf0g",
        "outputId": "0b70c1cf-fb53-4803-a3f9-4d0b54e32847"
      },
      "execution_count": null,
      "outputs": [
        {
          "output_type": "stream",
          "name": "stdout",
          "text": [
            "{'neg': 0.0, 'neu': 0.448, 'pos': 0.552, 'compound': 0.7316}\n"
          ]
        }
      ]
    },
    {
      "cell_type": "code",
      "source": [
        "# Define the string to analyze\n",
        "text = \"TO THE MOON?\"\n",
        "\n",
        "# Use the polarity_scores() method to get the sentiment scores for the text\n",
        "scores = analyzer.polarity_scores(text)\n",
        "\n",
        "# Print the polarity scores\n",
        "print(scores)"
      ],
      "metadata": {
        "colab": {
          "base_uri": "https://localhost:8080/"
        },
        "id": "a_vdFfXemoUx",
        "outputId": "a0ed5e5b-fa7f-4d03-db9c-690cd6d68f33"
      },
      "execution_count": null,
      "outputs": [
        {
          "output_type": "stream",
          "name": "stdout",
          "text": [
            "{'neg': 0.0, 'neu': 0.392, 'pos': 0.608, 'compound': 0.4767}\n"
          ]
        }
      ]
    },
    {
      "cell_type": "code",
      "source": [
        "# Define the string to analyze\n",
        "text = \"to the moon\"\n",
        "\n",
        "# Use the polarity_scores() method to get the sentiment scores for the text\n",
        "scores = analyzer.polarity_scores(text)\n",
        "\n",
        "# Print the polarity scores\n",
        "print(scores)"
      ],
      "metadata": {
        "colab": {
          "base_uri": "https://localhost:8080/"
        },
        "id": "rIERvMFeoVZ9",
        "outputId": "2dad4959-756b-46bb-b4f7-9910f90064a8"
      },
      "execution_count": null,
      "outputs": [
        {
          "output_type": "stream",
          "name": "stdout",
          "text": [
            "{'neg': 0.0, 'neu': 0.392, 'pos': 0.608, 'compound': 0.4767}\n"
          ]
        }
      ]
    },
    {
      "cell_type": "code",
      "source": [
        "\n",
        "text = \"It’s gunna be yuge.\"\n",
        "text=  map_emojis(text)\n",
        "# Use the polarity_scores() method to get the sentiment scores for the text\n",
        "scores = analyzer.polarity_scores(text)\n",
        "\n",
        "# Print the polarity scores\n",
        "print(scores)"
      ],
      "metadata": {
        "colab": {
          "base_uri": "https://localhost:8080/"
        },
        "id": "qfF2bK8Yi7Kb",
        "outputId": "74275d0e-2f2e-4d38-ab05-4c62e880f7d4"
      },
      "execution_count": null,
      "outputs": [
        {
          "output_type": "stream",
          "name": "stdout",
          "text": [
            "{'neg': 0.0, 'neu': 1.0, 'pos': 0.0, 'compound': 0.0}\n"
          ]
        }
      ]
    },
    {
      "cell_type": "code",
      "source": [
        "\n",
        "text = \"It’s gonna be huge.\"\n",
        "text=  map_emojis(text)\n",
        "# Use the polarity_scores() method to get the sentiment scores for the text\n",
        "scores = analyzer.polarity_scores(text)\n",
        "\n",
        "# Print the polarity scores\n",
        "print(scores)"
      ],
      "metadata": {
        "colab": {
          "base_uri": "https://localhost:8080/"
        },
        "id": "2W_MSBR_4lvT",
        "outputId": "4b16f589-dcd8-4699-f570-4d6adabc5ee7"
      },
      "execution_count": null,
      "outputs": [
        {
          "output_type": "stream",
          "name": "stdout",
          "text": [
            "{'neg': 0.0, 'neu': 0.566, 'pos': 0.434, 'compound': 0.3182}\n"
          ]
        }
      ]
    },
    {
      "cell_type": "code",
      "source": [
        "text = \"I'm just glad I yolod shares and not calls\"\n",
        "scores = analyzer.polarity_scores(text)\n",
        "\n",
        "# Print the polarity scores\n",
        "print(scores)"
      ],
      "metadata": {
        "colab": {
          "base_uri": "https://localhost:8080/"
        },
        "id": "LQbFZcuW2l6w",
        "outputId": "3aacc6ee-6986-47be-db88-42087ac34a14"
      },
      "execution_count": null,
      "outputs": [
        {
          "output_type": "stream",
          "name": "stdout",
          "text": [
            "{'neg': 0.0, 'neu': 0.536, 'pos': 0.464, 'compound': 0.6369}\n"
          ]
        }
      ]
    }
  ]
}